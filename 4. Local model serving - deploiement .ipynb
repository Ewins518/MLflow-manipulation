{
 "cells": [
  {
   "cell_type": "markdown",
   "id": "6c474c01",
   "metadata": {},
   "source": [
    "## Local deploying and serving \n",
    "Servir et interroger des modèles localement est très simple et peut être effectué en ligne de commande. Si vous souhaitez simplement servir le dernier modèle, vous pouvez le faire en utilisant l'ID du run .\n",
    "\n",
    "Avant de commencer, accédez à nouveau à l'interface utilisateur de MLFlow et cliquez sur l'expérience scikit_learn_experiment. Choisissez une exécution et copiez l'ID de l'exécution. N'oubliez pas non plus le nom du modèle avec lequel vous avez enregistré le modèle, qui devrait être log_reg_model. \n"
   ]
  },
  {
   "cell_type": "code",
   "execution_count": 2,
   "id": "8b987f12",
   "metadata": {},
   "outputs": [
    {
     "name": "stderr",
     "output_type": "stream",
     "text": [
      "/home/ewins/anaconda3/lib/python3.9/site-packages/scipy/__init__.py:155: UserWarning: A NumPy version >=1.18.5 and <1.25.0 is required for this version of SciPy (detected version 1.26.1\n",
      "  warnings.warn(f\"A NumPy version >={np_minversion} and <{np_maxversion}\"\n"
     ]
    }
   ],
   "source": [
    "import pandas as pd\n",
    "import mlflow\n",
    "import mlflow.sklearn\n",
    "import seaborn as sns\n",
    "import matplotlib.pyplot as plt\n",
    "from sklearn.preprocessing import StandardScaler\n",
    "from sklearn.model_selection import train_test_split\n",
    "from sklearn.metrics import roc_auc_score, accuracy_score,confusion_matrix\n",
    "import numpy as np\n",
    "import subprocess\n",
    "import json"
   ]
  },
  {
   "cell_type": "markdown",
   "id": "b5c1a4d2",
   "metadata": {},
   "source": [
    "Tout d'abord, vous devez remplacer votre répertoire par un répertoire contenant le dossier mlruns avec toutes vos expériences. Ensuite, vous avez besoin de deux choses : l'ID du run de votre modèle et le nom de votre modèle. \n",
    "\n",
    "Une fois vous aurez ces information, exécutez cette commande:\n",
    "\n",
    "> mlflow models serve --model-uri runs:/YOUR_MODEL_RUN/YOUR_MODEL_NAME -p 1235\n",
    "\n",
    "MLFlow devrait commencer à construire immédiatement un nouvel environnement conda qu'il utilisera pour servir localement. Dans cet environnement, il installe des packages de base et des packages spécifiques que le modèle doit pouvoir s'exécuter.\n",
    "\n",
    "notre modèle est servi sur : http://localhost:1235/ "
   ]
  },
  {
   "cell_type": "markdown",
   "id": "f97bcd2f",
   "metadata": {},
   "source": [
    "### Interroger le modèle \n",
    "\n",
    "Vous êtes maintenant prêt à interroger le modèle avec des données et à recevoir des prédictions. C'est là qu'intervient le module subprocess (ou requests). Tout d'abord, chargeons à nouveau notre dataframe. Exécutez le code suivant : "
   ]
  },
  {
   "cell_type": "markdown",
   "id": "ecf49a20",
   "metadata": {},
   "source": [
    "#### Interrogation en utilisant subprocess"
   ]
  },
  {
   "cell_type": "code",
   "execution_count": 3,
   "id": "0d442c31",
   "metadata": {},
   "outputs": [],
   "source": [
    "df = pd.read_csv(\"data/creditcard.csv\")"
   ]
  },
  {
   "cell_type": "code",
   "execution_count": 29,
   "id": "dace9d4a",
   "metadata": {},
   "outputs": [],
   "source": [
    "#input_json = df.iloc[:80].drop([\"Time\", \"Class\"],axis=1).to_json(orient=\"split\")\n",
    "\n",
    "# nous allons extraire 80 valeur pour interroger mle modèle avec "
   ]
  },
  {
   "cell_type": "code",
   "execution_count": null,
   "id": "ef6609b8",
   "metadata": {},
   "outputs": [],
   "source": []
  },
  {
   "cell_type": "code",
   "execution_count": 42,
   "id": "6da34b28",
   "metadata": {},
   "outputs": [],
   "source": [
    "import json\n",
    "data_to_send = df.iloc[:80].drop([\"Time\", \"Class\"], axis=1)\n",
    "\n",
    "input_dict = {\"dataframe_split\": data_to_send.to_dict(orient=\"split\")}\n",
    "\n",
    "input_json = json.dumps(input_dict)"
   ]
  },
  {
   "cell_type": "code",
   "execution_count": 44,
   "id": "a8b66ffe",
   "metadata": {},
   "outputs": [
    {
     "name": "stderr",
     "output_type": "stream",
     "text": [
      "  % Total    % Received % Xferd  Average Speed   Time    Time     Time  Current\n",
      "                                 Dload  Upload   Total   Spent    Left  Speed\n",
      "\r",
      "  0     0    0     0    0     0      0      0 --:--:-- --:--:-- --:--:--     0\r",
      "100 44913  100   257  100 44656   7630  1294k --:--:-- --:--:-- --:--:-- 1329k\n"
     ]
    }
   ],
   "source": [
    "proc = subprocess.run([\"curl\", \"-X\", \"POST\", \"-H\",\"Content-Type:application/json\",\n",
    "\"--data\", input_json, \"http://127.0.0.1:1235/invocations\"],\n",
    "stdout=subprocess.PIPE, encoding='utf-8')"
   ]
  },
  {
   "cell_type": "code",
   "execution_count": 46,
   "id": "f5d3ebdb",
   "metadata": {},
   "outputs": [
    {
     "data": {
      "text/html": [
       "<div>\n",
       "<style scoped>\n",
       "    .dataframe tbody tr th:only-of-type {\n",
       "        vertical-align: middle;\n",
       "    }\n",
       "\n",
       "    .dataframe tbody tr th {\n",
       "        vertical-align: top;\n",
       "    }\n",
       "\n",
       "    .dataframe thead th {\n",
       "        text-align: right;\n",
       "    }\n",
       "</style>\n",
       "<table border=\"1\" class=\"dataframe\">\n",
       "  <thead>\n",
       "    <tr style=\"text-align: right;\">\n",
       "      <th></th>\n",
       "      <th>predictions</th>\n",
       "    </tr>\n",
       "  </thead>\n",
       "  <tbody>\n",
       "    <tr>\n",
       "      <th>0</th>\n",
       "      <td>[1, 0, 1, 1, 1, 0, 0, 1, 1, 0, 0, 0, 1, 1, 1, ...</td>\n",
       "    </tr>\n",
       "  </tbody>\n",
       "</table>\n",
       "</div>"
      ],
      "text/plain": [
       "                                         predictions\n",
       "0  [1, 0, 1, 1, 1, 0, 0, 1, 1, 0, 0, 0, 1, 1, 1, ..."
      ]
     },
     "execution_count": 46,
     "metadata": {},
     "output_type": "execute_result"
    }
   ],
   "source": [
    "output = proc.stdout\n",
    "df2 = pd.DataFrame([json.loads(output)])\n",
    "df2"
   ]
  },
  {
   "cell_type": "markdown",
   "id": "c4942859",
   "metadata": {},
   "source": [
    "#### Interrogation en utilisant requests "
   ]
  },
  {
   "cell_type": "code",
   "execution_count": 47,
   "id": "2514274e",
   "metadata": {},
   "outputs": [],
   "source": [
    "import requests "
   ]
  },
  {
   "cell_type": "code",
   "execution_count": 48,
   "id": "55bbb714",
   "metadata": {},
   "outputs": [
    {
     "name": "stdout",
     "output_type": "stream",
     "text": [
      "Predictions: {\"predictions\": [1, 0, 1, 1, 1, 0, 0, 1, 1, 0, 0, 0, 1, 1, 1, 0, 0, 0, 1, 0, 1, 1, 0, 0, 0, 0, 1, 0, 1, 0, 0, 0, 0, 0, 0, 0, 1, 0, 0, 0, 0, 0, 0, 0, 0, 0, 0, 0, 0, 0, 0, 1, 0, 0, 0, 0, 1, 0, 0, 0, 1, 1, 1, 0, 1, 0, 1, 0, 1, 1, 1, 0, 0, 0, 0, 0, 1, 1, 0, 0]}\n"
     ]
    }
   ],
   "source": [
    "import requests\n",
    "\n",
    "host = '127.0.0.1'\n",
    "port = '1235'\n",
    "\n",
    "url = f'http://{host}:{port}/invocations'\n",
    "\n",
    "headers = {\n",
    "    'Content-Type': 'application/json',\n",
    "}\n",
    "r = requests.post(url=url, headers=headers, data=input_json)\n",
    "\n",
    "print(f'Predictions: {r.text}')"
   ]
  },
  {
   "cell_type": "markdown",
   "id": "ce8d4441",
   "metadata": {},
   "source": [
    "ce que nous avons fait en haut (subprocess ou request) est équivalent à exécuter la commande ci-dessous sur l'invité de commande:\n",
    "\n",
    "> curl -X POST -H \"Content-Type:application/json;\n",
    "format=pandas-split\"\n",
    "–data \"CONTENT_OF_INPUT_JSON\"\n",
    "\"http://127.0.0.1:1235/invocations\"\n",
    "\n",
    "Le cœur du problème est que si vous exécutez cela en ligne de commande, coller les données au format JSON peut devenir très compliqué car il y a tellement de colonnes. C'est pourquoi nous avons choisi d'utiliser subprocess ou requests car il est plus facile de transmettre directement le JSON lui-même en utilisant un nom de variable, input_json dans ce cas, pour contenir le contenu du JSON. "
   ]
  },
  {
   "cell_type": "markdown",
   "id": "19c773f0",
   "metadata": {},
   "source": [
    "#### Batch querying \n",
    "\n",
    "Malheureusement, il y a un maximum d'enregistrements qu'on peut envoyer pour la prédiction (presque 80).\n",
    "\n",
    "Afin de remédier à ce problème, nous pouvons essayer de batcher nos données et faire une prédiction à chaque batch de données.\n",
    "\n",
    "nous allons refaire la même chose avec scaling."
   ]
  },
  {
   "cell_type": "code",
   "execution_count": 68,
   "id": "5bcaa775",
   "metadata": {},
   "outputs": [
    {
     "name": "stderr",
     "output_type": "stream",
     "text": [
      "  % Total    % Received % Xferd  Average Speed   Time    Time     Time  Current\n",
      "                                 Dload  Upload   Total   Spent    Left  Speed\n",
      "100 49310  100   257  100 49053  56273  10.2M --:--:-- --:--:-- --:--:-- 11.7M\n",
      "  % Total    % Received % Xferd  Average Speed   Time    Time     Time  Current\n",
      "                                 Dload  Upload   Total   Spent    Left  Speed\n",
      "100 49159  100   257  100 48902  55796  10.1M --:--:-- --:--:-- --:--:-- 11.7M\n",
      "  % Total    % Received % Xferd  Average Speed   Time    Time     Time  Current\n",
      "                                 Dload  Upload   Total   Spent    Left  Speed\n",
      "100 49079  100   257  100 48822  56458  10.2M --:--:-- --:--:-- --:--:-- 11.7M\n",
      "  % Total    % Received % Xferd  Average Speed   Time    Time     Time  Current\n",
      "                                 Dload  Upload   Total   Spent    Left  Speed\n",
      "100 49200  100   257  100 48943  57752  10.4M --:--:-- --:--:-- --:--:-- 11.7M\n",
      "  % Total    % Received % Xferd  Average Speed   Time    Time     Time  Current\n",
      "                                 Dload  Upload   Total   Spent    Left  Speed\n",
      "100 49227  100   257  100 48970  56984  10.3M --:--:-- --:--:-- --:--:-- 11.7M\n",
      "  % Total    % Received % Xferd  Average Speed   Time    Time     Time  Current\n",
      "                                 Dload  Upload   Total   Spent    Left  Speed\n",
      "100 49178  100   257  100 48921  56808  10.3M --:--:-- --:--:-- --:--:-- 11.7M\n",
      "  % Total    % Received % Xferd  Average Speed   Time    Time     Time  Current\n",
      "                                 Dload  Upload   Total   Spent    Left  Speed\n",
      "100 49164  100   257  100 48907  56720  10.2M --:--:-- --:--:-- --:--:-- 11.7M\n",
      "  % Total    % Received % Xferd  Average Speed   Time    Time     Time  Current\n",
      "                                 Dload  Upload   Total   Spent    Left  Speed\n",
      "100 49141  100   257  100 48884  58013  10.5M --:--:-- --:--:-- --:--:-- 11.7M\n",
      "  % Total    % Received % Xferd  Average Speed   Time    Time     Time  Current\n",
      "                                 Dload  Upload   Total   Spent    Left  Speed\n",
      "100 49212  100   257  100 48955  56845  10.3M --:--:-- --:--:-- --:--:-- 11.7M\n",
      "  % Total    % Received % Xferd  Average Speed   Time    Time     Time  Current\n",
      "                                 Dload  Upload   Total   Spent    Left  Speed\n",
      "100 49222  100   257  100 48965  48109  8951k --:--:-- --:--:-- --:--:-- 9613k\n",
      "  % Total    % Received % Xferd  Average Speed   Time    Time     Time  Current\n",
      "                                 Dload  Upload   Total   Spent    Left  Speed\n",
      "100 49209  100   257  100 48952  56795  10.3M --:--:-- --:--:-- --:--:-- 11.7M\n",
      "  % Total    % Received % Xferd  Average Speed   Time    Time     Time  Current\n",
      "                                 Dload  Upload   Total   Spent    Left  Speed\n",
      "100 49263  100   257  100 49006  57507  10.4M --:--:-- --:--:-- --:--:-- 11.7M\n",
      "  % Total    % Received % Xferd  Average Speed   Time    Time     Time  Current\n",
      "                                 Dload  Upload   Total   Spent    Left  Speed\n",
      "100 49176  100   257  100 48919  57251  10.3M --:--:-- --:--:-- --:--:-- 11.7M\n",
      "  % Total    % Received % Xferd  Average Speed   Time    Time     Time  Current\n",
      "                                 Dload  Upload   Total   Spent    Left  Speed\n",
      "100 49254  100   257  100 48997  57073  10.3M --:--:-- --:--:-- --:--:-- 11.7M\n",
      "  % Total    % Received % Xferd  Average Speed   Time    Time     Time  Current\n",
      "                                 Dload  Upload   Total   Spent    Left  Speed\n",
      "100 49261  100   257  100 49004  48775  9082k --:--:-- --:--:-- --:--:-- 9621k\n",
      "  % Total    % Received % Xferd  Average Speed   Time    Time     Time  Current\n",
      "                                 Dload  Upload   Total   Spent    Left  Speed\n",
      "100 49195  100   257  100 48938  55435  10.0M --:--:-- --:--:-- --:--:-- 11.7M\n",
      "  % Total    % Received % Xferd  Average Speed   Time    Time     Time  Current\n",
      "                                 Dload  Upload   Total   Spent    Left  Speed\n",
      "100 49254  100   257  100 48997  56896  10.3M --:--:-- --:--:-- --:--:-- 11.7M\n",
      "  % Total    % Received % Xferd  Average Speed   Time    Time     Time  Current\n",
      "                                 Dload  Upload   Total   Spent    Left  Speed\n",
      "100 49173  100   257  100 48916  56632  10.2M --:--:-- --:--:-- --:--:-- 11.7M\n",
      "  % Total    % Received % Xferd  Average Speed   Time    Time     Time  Current\n",
      "                                 Dload  Upload   Total   Spent    Left  Speed\n",
      "100 49208  100   257  100 48951  46583  8664k --:--:-- --:--:-- --:--:-- 9610k\n",
      "  % Total    % Received % Xferd  Average Speed   Time    Time     Time  Current\n",
      "                                 Dload  Upload   Total   Spent    Left  Speed\n",
      "100 49128  100   257  100 48871  21729  4035k --:--:-- --:--:-- --:--:-- 4361k\n",
      "  % Total    % Received % Xferd  Average Speed   Time    Time     Time  Current\n",
      "                                 Dload  Upload   Total   Spent    Left  Speed\n",
      "100 49144  100   257  100 48887  21466  3987k --:--:-- --:--:-- --:--:-- 4362k\n",
      "  % Total    % Received % Xferd  Average Speed   Time    Time     Time  Current\n",
      "                                 Dload  Upload   Total   Spent    Left  Speed\n",
      "100 49111  100   257  100 48854  20233  3756k --:--:-- --:--:-- --:--:-- 3996k\n",
      "  % Total    % Received % Xferd  Average Speed   Time    Time     Time  Current\n",
      "                                 Dload  Upload   Total   Spent    Left  Speed\n",
      "100 49251  100   257  100 48994  56052  10.1M --:--:-- --:--:-- --:--:-- 11.7M\n",
      "  % Total    % Received % Xferd  Average Speed   Time    Time     Time  Current\n",
      "                                 Dload  Upload   Total   Spent    Left  Speed\n",
      "100 49159  100   257  100 48902  31410  5836k --:--:-- --:--:-- --:--:-- 6000k\n",
      "  % Total    % Received % Xferd  Average Speed   Time    Time     Time  Current\n",
      "                                 Dload  Upload   Total   Spent    Left  Speed\n",
      "100 49285  100   257  100 49028  34999  6520k --:--:-- --:--:-- --:--:-- 6875k\n",
      "  % Total    % Received % Xferd  Average Speed   Time    Time     Time  Current\n",
      "                                 Dload  Upload   Total   Spent    Left  Speed\n",
      "100 49106  100   257  100 48849  31873  5916k --:--:-- --:--:-- --:--:-- 6850k\n",
      "  % Total    % Received % Xferd  Average Speed   Time    Time     Time  Current\n",
      "                                 Dload  Upload   Total   Spent    Left  Speed\n",
      "100 49139  100   257  100 48882  35684  6628k --:--:-- --:--:-- --:--:-- 6855k\n",
      "  % Total    % Received % Xferd  Average Speed   Time    Time     Time  Current\n",
      "                                 Dload  Upload   Total   Spent    Left  Speed\n",
      "100 49117  100   257  100 48860  37149  6897k --:--:-- --:--:-- --:--:-- 7994k\n",
      "  % Total    % Received % Xferd  Average Speed   Time    Time     Time  Current\n",
      "                                 Dload  Upload   Total   Spent    Left  Speed\n",
      "100 49112  100   257  100 48855  30896  5735k --:--:-- --:--:-- --:--:-- 5995k\n",
      "  % Total    % Received % Xferd  Average Speed   Time    Time     Time  Current\n",
      "                                 Dload  Upload   Total   Spent    Left  Speed\n",
      "100 49178  100   257  100 48921  58303  10.5M --:--:-- --:--:-- --:--:-- 11.7M\n",
      "  % Total    % Received % Xferd  Average Speed   Time    Time     Time  Current\n",
      "                                 Dload  Upload   Total   Spent    Left  Speed\n",
      "100 49179  100   257  100 48922  50431  9375k --:--:-- --:--:-- --:--:-- 11.7M\n",
      "  % Total    % Received % Xferd  Average Speed   Time    Time     Time  Current\n",
      "                                 Dload  Upload   Total   Spent    Left  Speed\n",
      "100 49080  100   257  100 48823  26280  4875k --:--:-- --:--:-- --:--:-- 5325k\n",
      "  % Total    % Received % Xferd  Average Speed   Time    Time     Time  Current\n",
      "                                 Dload  Upload   Total   Spent    Left  Speed\n",
      "100 49128  100   257  100 48871  48831  9068k --:--:-- --:--:-- --:--:-- 9595k\n",
      "  % Total    % Received % Xferd  Average Speed   Time    Time     Time  Current\n",
      "                                 Dload  Upload   Total   Spent    Left  Speed\n",
      "100 49091  100   257  100 48834  51544  9564k --:--:-- --:--:-- --:--:-- 11.7M\n",
      "  % Total    % Received % Xferd  Average Speed   Time    Time     Time  Current\n",
      "                                 Dload  Upload   Total   Spent    Left  Speed\n",
      "100 49085  100   257  100 48828  49661  9214k --:--:-- --:--:-- --:--:-- 9586k\n",
      "  % Total    % Received % Xferd  Average Speed   Time    Time     Time  Current\n",
      "                                 Dload  Upload   Total   Spent    Left  Speed\n",
      "100 49144  100   257  100 48887  41431  7696k --:--:-- --:--:-- --:--:-- 7998k\n",
      "  % Total    % Received % Xferd  Average Speed   Time    Time     Time  Current\n",
      "                                 Dload  Upload   Total   Spent    Left  Speed\n",
      "100 49091  100   257  100 48834  53642  9953k --:--:-- --:--:-- --:--:-- 11.7M\n",
      "  % Total    % Received % Xferd  Average Speed   Time    Time     Time  Current\n",
      "                                 Dload  Upload   Total   Spent    Left  Speed\n",
      "100 49135  100   257  100 48878  42563  7905k --:--:-- --:--:-- --:--:-- 9596k\n",
      "  % Total    % Received % Xferd  Average Speed   Time    Time     Time  Current\n",
      "                                 Dload  Upload   Total   Spent    Left  Speed\n",
      "100 49241  100   257  100 48984  53552  9967k --:--:-- --:--:-- --:--:-- 11.7M\n"
     ]
    },
    {
     "name": "stderr",
     "output_type": "stream",
     "text": [
      "  % Total    % Received % Xferd  Average Speed   Time    Time     Time  Current\n",
      "                                 Dload  Upload   Total   Spent    Left  Speed\n",
      "100 49162  100   257  100 48905  48253  8967k --:--:-- --:--:-- --:--:-- 9601k\n",
      "  % Total    % Received % Xferd  Average Speed   Time    Time     Time  Current\n",
      "                                 Dload  Upload   Total   Spent    Left  Speed\n",
      "100 49025  100   257  100 48768  53776  9965k --:--:-- --:--:-- --:--:-- 11.6M\n",
      "  % Total    % Received % Xferd  Average Speed   Time    Time     Time  Current\n",
      "                                 Dload  Upload   Total   Spent    Left  Speed\n",
      "100 49148  100   257  100 48891  49518  9199k --:--:-- --:--:-- --:--:-- 9599k\n",
      "  % Total    % Received % Xferd  Average Speed   Time    Time     Time  Current\n",
      "                                 Dload  Upload   Total   Spent    Left  Speed\n",
      "100 49169  100   257  100 48912  50421  9371k --:--:-- --:--:-- --:--:-- 11.7M\n",
      "  % Total    % Received % Xferd  Average Speed   Time    Time     Time  Current\n",
      "                                 Dload  Upload   Total   Spent    Left  Speed\n",
      "100 49091  100   257  100 48834  53374  9904k --:--:-- --:--:-- --:--:-- 11.7M\n",
      "  % Total    % Received % Xferd  Average Speed   Time    Time     Time  Current\n",
      "                                 Dload  Upload   Total   Spent    Left  Speed\n",
      "100 49078  100   257  100 48821  46650  8654k --:--:-- --:--:-- --:--:-- 9585k\n",
      "  % Total    % Received % Xferd  Average Speed   Time    Time     Time  Current\n",
      "                                 Dload  Upload   Total   Spent    Left  Speed\n",
      "100 49144  100   257  100 48887  53912   9.7M --:--:-- --:--:-- --:--:-- 11.7M\n",
      "  % Total    % Received % Xferd  Average Speed   Time    Time     Time  Current\n",
      "                                 Dload  Upload   Total   Spent    Left  Speed\n",
      "100 49080  100   257  100 48823  53653  9953k --:--:-- --:--:-- --:--:-- 11.7M\n",
      "  % Total    % Received % Xferd  Average Speed   Time    Time     Time  Current\n",
      "                                 Dload  Upload   Total   Spent    Left  Speed\n",
      "100 49065  100   257  100 48808  52119  9666k --:--:-- --:--:-- --:--:-- 11.6M\n",
      "  % Total    % Received % Xferd  Average Speed   Time    Time     Time  Current\n",
      "                                 Dload  Upload   Total   Spent    Left  Speed\n",
      "100 49196  100   257  100 48939  48646  9046k --:--:-- --:--:-- --:--:-- 9608k\n",
      "  % Total    % Received % Xferd  Average Speed   Time    Time     Time  Current\n",
      "                                 Dload  Upload   Total   Spent    Left  Speed\n",
      "100 49107  100   257  100 48850  51052  9476k --:--:-- --:--:-- --:--:-- 11.7M\n",
      "  % Total    % Received % Xferd  Average Speed   Time    Time     Time  Current\n",
      "                                 Dload  Upload   Total   Spent    Left  Speed\n",
      "100 48994  100   257  100 48737  56545  10.2M --:--:-- --:--:-- --:--:-- 11.6M\n",
      "  % Total    % Received % Xferd  Average Speed   Time    Time     Time  Current\n",
      "                                 Dload  Upload   Total   Spent    Left  Speed\n",
      "100 48861  100   257  100 48604  55966  10.0M --:--:-- --:--:-- --:--:-- 11.6M\n",
      "  % Total    % Received % Xferd  Average Speed   Time    Time     Time  Current\n",
      "                                 Dload  Upload   Total   Spent    Left  Speed\n",
      "100 48781  100   257  100 48524  55079   9.9M --:--:-- --:--:-- --:--:-- 11.6M\n",
      "  % Total    % Received % Xferd  Average Speed   Time    Time     Time  Current\n",
      "                                 Dload  Upload   Total   Spent    Left  Speed\n",
      "100 48752  100   257  100 48495  57161  10.2M --:--:-- --:--:-- --:--:-- 11.6M\n",
      "  % Total    % Received % Xferd  Average Speed   Time    Time     Time  Current\n",
      "                                 Dload  Upload   Total   Spent    Left  Speed\n",
      "100 48756  100   257  100 48499  56446  10.1M --:--:-- --:--:-- --:--:-- 11.6M\n",
      "  % Total    % Received % Xferd  Average Speed   Time    Time     Time  Current\n",
      "                                 Dload  Upload   Total   Spent    Left  Speed\n",
      "100 48882  100   257  100 48625  47965  8862k --:--:-- --:--:-- --:--:-- 9547k\n",
      "  % Total    % Received % Xferd  Average Speed   Time    Time     Time  Current\n",
      "                                 Dload  Upload   Total   Spent    Left  Speed\n",
      "100 48920  100   257  100 48663  55893  10.0M --:--:-- --:--:-- --:--:-- 11.6M\n",
      "  % Total    % Received % Xferd  Average Speed   Time    Time     Time  Current\n",
      "                                 Dload  Upload   Total   Spent    Left  Speed\n",
      "100 48867  100   257  100 48610  54785   9.8M --:--:-- --:--:-- --:--:-- 11.6M\n",
      "  % Total    % Received % Xferd  Average Speed   Time    Time     Time  Current\n",
      "                                 Dload  Upload   Total   Spent    Left  Speed\n",
      "100 49014  100   257  100 48757  53541  9919k --:--:-- --:--:-- --:--:-- 11.6M\n",
      "  % Total    % Received % Xferd  Average Speed   Time    Time     Time  Current\n",
      "                                 Dload  Upload   Total   Spent    Left  Speed\n",
      "100 48860  100   257  100 48603  47225  8721k --:--:-- --:--:-- --:--:-- 9542k\n",
      "  % Total    % Received % Xferd  Average Speed   Time    Time     Time  Current\n",
      "                                 Dload  Upload   Total   Spent    Left  Speed\n",
      "100 48779  100   257  100 48522  57149  10.2M --:--:-- --:--:-- --:--:-- 11.6M\n",
      "  % Total    % Received % Xferd  Average Speed   Time    Time     Time  Current\n",
      "                                 Dload  Upload   Total   Spent    Left  Speed\n",
      "100 48805  100   257  100 48548  57765  10.4M --:--:-- --:--:-- --:--:-- 11.6M\n",
      "  % Total    % Received % Xferd  Average Speed   Time    Time     Time  Current\n",
      "                                 Dload  Upload   Total   Spent    Left  Speed\n",
      "100 48918  100   257  100 48661  53867  9960k --:--:-- --:--:-- --:--:-- 11.6M\n",
      "  % Total    % Received % Xferd  Average Speed   Time    Time     Time  Current\n",
      "                                 Dload  Upload   Total   Spent    Left  Speed\n",
      "100 48815  100   257  100 48558  32965  6082k --:--:-- --:--:-- --:--:-- 6810k\n",
      "  % Total    % Received % Xferd  Average Speed   Time    Time     Time  Current\n",
      "                                 Dload  Upload   Total   Spent    Left  Speed\n",
      "100 48950  100   257  100 48693  50146  9278k --:--:-- --:--:-- --:--:-- 11.6M\n",
      "  % Total    % Received % Xferd  Average Speed   Time    Time     Time  Current\n",
      "                                 Dload  Upload   Total   Spent    Left  Speed\n",
      "100 48912  100   257  100 48655  43142  7976k --:--:-- --:--:-- --:--:-- 9553k\n",
      "  % Total    % Received % Xferd  Average Speed   Time    Time     Time  Current\n",
      "                                 Dload  Upload   Total   Spent    Left  Speed\n",
      "100 48891  100   257  100 48634  54472   9.8M --:--:-- --:--:-- --:--:-- 11.6M\n",
      "  % Total    % Received % Xferd  Average Speed   Time    Time     Time  Current\n",
      "                                 Dload  Upload   Total   Spent    Left  Speed\n",
      "100 48831  100   257  100 48574  39380  7268k --:--:-- --:--:-- --:--:-- 7947k\n",
      "  % Total    % Received % Xferd  Average Speed   Time    Time     Time  Current\n",
      "                                 Dload  Upload   Total   Spent    Left  Speed\n",
      "100 48804  100   257  100 48547  37042  6833k --:--:-- --:--:-- --:--:-- 7943k\n",
      "  % Total    % Received % Xferd  Average Speed   Time    Time     Time  Current\n",
      "                                 Dload  Upload   Total   Spent    Left  Speed\n",
      "100 48879  100   257  100 48622  48600  8979k --:--:-- --:--:-- --:--:-- 9546k\n",
      "  % Total    % Received % Xferd  Average Speed   Time    Time     Time  Current\n",
      "                                 Dload  Upload   Total   Spent    Left  Speed\n",
      "100 48877  100   257  100 48620  51205  9460k --:--:-- --:--:-- --:--:-- 11.6M\n",
      "  % Total    % Received % Xferd  Average Speed   Time    Time     Time  Current\n",
      "                                 Dload  Upload   Total   Spent    Left  Speed\n",
      "100 48855  100   257  100 48598  38375  7086k --:--:-- --:--:-- --:--:-- 7951k\n",
      "  % Total    % Received % Xferd  Average Speed   Time    Time     Time  Current\n",
      "                                 Dload  Upload   Total   Spent    Left  Speed\n",
      "100 48856  100   257  100 48599  37160  6862k --:--:-- --:--:-- --:--:-- 7951k\n",
      "  % Total    % Received % Xferd  Average Speed   Time    Time     Time  Current\n",
      "                                 Dload  Upload   Total   Spent    Left  Speed\n",
      "100 48862  100   257  100 48605  50590  9343k --:--:-- --:--:-- --:--:-- 11.6M\n",
      "  % Total    % Received % Xferd  Average Speed   Time    Time     Time  Current\n",
      "                                 Dload  Upload   Total   Spent    Left  Speed\n",
      "100 48853  100   257  100 48596  46289  8547k --:--:-- --:--:-- --:--:-- 9541k\n",
      "  % Total    % Received % Xferd  Average Speed   Time    Time     Time  Current\n",
      "                                 Dload  Upload   Total   Spent    Left  Speed\n",
      "100 48851  100   257  100 48594  36248  6693k --:--:-- --:--:-- --:--:-- 7951k\n",
      "  % Total    % Received % Xferd  Average Speed   Time    Time     Time  Current\n",
      "                                 Dload  Upload   Total   Spent    Left  Speed\n",
      "100 48914  100   257  100 48657  49690  9187k --:--:-- --:--:-- --:--:-- 9553k\n",
      "  % Total    % Received % Xferd  Average Speed   Time    Time     Time  Current\n",
      "                                 Dload  Upload   Total   Spent    Left  Speed\n"
     ]
    },
    {
     "name": "stderr",
     "output_type": "stream",
     "text": [
      "100 48889  100   257  100 48632  42200  7798k --:--:-- --:--:-- --:--:-- 9548k\n",
      "  % Total    % Received % Xferd  Average Speed   Time    Time     Time  Current\n",
      "                                 Dload  Upload   Total   Spent    Left  Speed\n",
      "100 48828  100   257  100 48571  41531  7665k --:--:-- --:--:-- --:--:-- 9536k\n",
      "  % Total    % Received % Xferd  Average Speed   Time    Time     Time  Current\n",
      "                                 Dload  Upload   Total   Spent    Left  Speed\n",
      "100 48871  100   257  100 48614  27928  5159k --:--:-- --:--:-- --:--:-- 5302k\n",
      "  % Total    % Received % Xferd  Average Speed   Time    Time     Time  Current\n",
      "                                 Dload  Upload   Total   Spent    Left  Speed\n",
      "100 48824  100   257  100 48567  49873  9204k --:--:-- --:--:-- --:--:-- 9535k\n",
      "  % Total    % Received % Xferd  Average Speed   Time    Time     Time  Current\n",
      "                                 Dload  Upload   Total   Spent    Left  Speed\n",
      "100 48938  100   257  100 48681  46223  8550k --:--:-- --:--:-- --:--:-- 9558k\n",
      "  % Total    % Received % Xferd  Average Speed   Time    Time     Time  Current\n",
      "                                 Dload  Upload   Total   Spent    Left  Speed\n",
      "100 48916  100   257  100 48659  37284  6893k --:--:-- --:--:-- --:--:-- 7961k\n",
      "  % Total    % Received % Xferd  Average Speed   Time    Time     Time  Current\n",
      "                                 Dload  Upload   Total   Spent    Left  Speed\n",
      "100 48842  100   257  100 48585  37176  6863k --:--:-- --:--:-- --:--:-- 7949k\n",
      "  % Total    % Received % Xferd  Average Speed   Time    Time     Time  Current\n",
      "                                 Dload  Upload   Total   Spent    Left  Speed\n",
      "100 48775  100   257  100 48518  37101  6840k --:--:-- --:--:-- --:--:-- 7938k\n",
      "  % Total    % Received % Xferd  Average Speed   Time    Time     Time  Current\n",
      "                                 Dload  Upload   Total   Spent    Left  Speed\n",
      "100 48832  100   257  100 48575  45350  8370k --:--:-- --:--:-- --:--:-- 9537k\n",
      "  % Total    % Received % Xferd  Average Speed   Time    Time     Time  Current\n",
      "                                 Dload  Upload   Total   Spent    Left  Speed\n",
      "100 48813  100   257  100 48556  39111  7216k --:--:-- --:--:-- --:--:-- 7944k\n",
      "  % Total    % Received % Xferd  Average Speed   Time    Time     Time  Current\n",
      "                                 Dload  Upload   Total   Spent    Left  Speed\n",
      "100 48923  100   257  100 48666  51606  9543k --:--:-- --:--:-- --:--:-- 11.6M\n",
      "  % Total    % Received % Xferd  Average Speed   Time    Time     Time  Current\n",
      "                                 Dload  Upload   Total   Spent    Left  Speed\n",
      "100 48936  100   257  100 48679  53209  9842k --:--:-- --:--:-- --:--:-- 11.6M\n",
      "  % Total    % Received % Xferd  Average Speed   Time    Time     Time  Current\n",
      "                                 Dload  Upload   Total   Spent    Left  Speed\n",
      "100 48960  100   257  100 48703  32032  5928k --:--:-- --:--:-- --:--:-- 6830k\n",
      "  % Total    % Received % Xferd  Average Speed   Time    Time     Time  Current\n",
      "                                 Dload  Upload   Total   Spent    Left  Speed\n",
      "100 48898  100   257  100 48641  53608  9908k --:--:-- --:--:-- --:--:-- 11.6M\n",
      "  % Total    % Received % Xferd  Average Speed   Time    Time     Time  Current\n",
      "                                 Dload  Upload   Total   Spent    Left  Speed\n",
      "100 48833  100   257  100 48576  55772  10.0M --:--:-- --:--:-- --:--:-- 11.6M\n",
      "  % Total    % Received % Xferd  Average Speed   Time    Time     Time  Current\n",
      "                                 Dload  Upload   Total   Spent    Left  Speed\n",
      "100 48918  100   257  100 48661  46415  8582k --:--:-- --:--:-- --:--:-- 9554k\n",
      "  % Total    % Received % Xferd  Average Speed   Time    Time     Time  Current\n",
      "                                 Dload  Upload   Total   Spent    Left  Speed\n",
      "100 48873  100   257  100 48616  53497  9882k --:--:-- --:--:-- --:--:-- 11.6M\n",
      "  % Total    % Received % Xferd  Average Speed   Time    Time     Time  Current\n",
      "                                 Dload  Upload   Total   Spent    Left  Speed\n",
      "100 48887  100   257  100 48630  34202  6320k --:--:-- --:--:-- --:--:-- 6820k\n",
      "  % Total    % Received % Xferd  Average Speed   Time    Time     Time  Current\n",
      "                                 Dload  Upload   Total   Spent    Left  Speed\n",
      "100 48928  100   257  100 48671  37240  6887k --:--:-- --:--:-- --:--:-- 7963k\n",
      "  % Total    % Received % Xferd  Average Speed   Time    Time     Time  Current\n",
      "                                 Dload  Upload   Total   Spent    Left  Speed\n",
      "100 48979  100   257  100 48722  35798  6627k --:--:-- --:--:-- --:--:-- 6833k\n",
      "  % Total    % Received % Xferd  Average Speed   Time    Time     Time  Current\n",
      "                                 Dload  Upload   Total   Spent    Left  Speed\n",
      "100 49010  100   257  100 48753  55845  10.1M --:--:-- --:--:-- --:--:-- 11.6M\n",
      "  % Total    % Received % Xferd  Average Speed   Time    Time     Time  Current\n",
      "                                 Dload  Upload   Total   Spent    Left  Speed\n",
      "100 49227  100   257  100 48970  38415  7148k --:--:-- --:--:-- --:--:-- 8012k\n",
      "  % Total    % Received % Xferd  Average Speed   Time    Time     Time  Current\n",
      "                                 Dload  Upload   Total   Spent    Left  Speed\n",
      "100 49301  100   257  100 49044  49864  9292k --:--:-- --:--:-- --:--:-- 9629k\n"
     ]
    },
    {
     "name": "stdout",
     "output_type": "stream",
     "text": [
      "Eval Acc 0.999625\n",
      "Eval AUC 0.94\n"
     ]
    }
   ],
   "source": [
    "normal = df[df.Class == 0].sample(frac=0.5, random_state=2020).reset_index(drop=True)\n",
    "anomaly = df[df.Class == 1]\n",
    "normal_train, normal_test = train_test_split(normal,\n",
    "test_size = 0.2, random_state = 2020)\n",
    "anomaly_train, anomaly_test = train_test_split(anomaly, test_size = 0.2, random_state = 2020)\n",
    "scaler = StandardScaler()\n",
    "scaler.fit(pd.concat((normal, anomaly)).drop([\"Time\", \"Class\"],\n",
    "axis=1))\n",
    "test = df.iloc[:8000]\n",
    "true = test.Class\n",
    "test = scaler.transform(test.drop([\"Time\", \"Class\"], axis=1))\n",
    "preds = []\n",
    "batch_size = 80\n",
    "for f in range(100):\n",
    "    sample = pd.DataFrame(test[f*batch_size:(f+1)*batch_size])\n",
    "    sample = {\"dataframe_split\": sample.to_dict(orient=\"split\")}\n",
    "    input_json = json.dumps(sample)\n",
    "    \n",
    "    proc = subprocess.run([\"curl\", \"-X\", \"POST\", \"-H\",\"Content-Type:application/json\", \"--data\",input_json, \"http://127.0.0.1:1235/invocations\"],stdout=subprocess.PIPE,encoding='utf-8')\n",
    "    output = proc.stdout\n",
    "    resp = pd.DataFrame([json.loads(output)])\n",
    "    preds = np.concatenate((preds, resp.values[0]))\n",
    "    \n",
    "flattened_data = [item for sublist in preds for item in sublist]\n",
    "preds = pd.Series(flattened_data)\n",
    "\n",
    "eval_acc = accuracy_score(true, preds)\n",
    "eval_auc = roc_auc_score(true, preds)\n",
    "print(\"Eval Acc\", eval_acc)\n",
    "print(\"Eval AUC\", eval_auc)"
   ]
  },
  {
   "cell_type": "markdown",
   "id": "7a05308f",
   "metadata": {},
   "source": [
    "Ici, vous sélectionnez les 8 000 premiers échantillons du dataframe. Étant donné que la taille du lot est de 80, vous avez 100 lots que vous transmettez au modèle "
   ]
  },
  {
   "cell_type": "code",
   "execution_count": 69,
   "id": "83d023e7",
   "metadata": {},
   "outputs": [
    {
     "data": {
      "text/plain": [
       "Text(0.5, 1.0, 'Confusion Matrix')"
      ]
     },
     "execution_count": 69,
     "metadata": {},
     "output_type": "execute_result"
    },
    {
     "data": {
      "image/png": "[encoded data removed]",
      "text/plain": [
       "<Figure size 640x480 with 2 Axes>"
      ]
     },
     "metadata": {},
     "output_type": "display_data"
    }
   ],
   "source": [
    "conf_matrix = confusion_matrix(true, preds)\n",
    "ax = sns.heatmap(conf_matrix, annot=True,fmt='g')\n",
    "ax.invert_xaxis()\n",
    "ax.invert_yaxis()\n",
    "plt.ylabel('Actual')\n",
    "plt.xlabel('Predicted')\n",
    "plt.title(\"Confusion Matrix\")"
   ]
  },
  {
   "cell_type": "code",
   "execution_count": 70,
   "id": "ac374037",
   "metadata": {},
   "outputs": [
    {
     "name": "stdout",
     "output_type": "stream",
     "text": [
      "Name: mlflow\n",
      "Version: 2.7.1\n",
      "Summary: MLflow: A Platform for ML Development and Productionization\n",
      "Home-page: https://mlflow.org/\n",
      "Author: Databricks\n",
      "Author-email: \n",
      "License: Apache License 2.0\n",
      "Location: /home/ewins/anaconda3/lib/python3.9/site-packages\n",
      "Requires: alembic, click, cloudpickle, databricks-cli, docker, entrypoints, Flask, gitpython, gunicorn, importlib-metadata, Jinja2, markdown, matplotlib, numpy, packaging, pandas, protobuf, pyarrow, pytz, pyyaml, querystring-parser, requests, scikit-learn, scipy, sqlalchemy, sqlparse\n",
      "Required-by: \n"
     ]
    }
   ],
   "source": [
    "!pip show mlflow"
   ]
  },
  {
   "cell_type": "code",
   "execution_count": null,
   "id": "3230e3aa",
   "metadata": {},
   "outputs": [],
   "source": []
  }
 ],
 "metadata": {
  "kernelspec": {
   "display_name": "Python 3 (ipykernel)",
   "language": "python",
   "name": "python3"
  },
  "language_info": {
   "codemirror_mode": {
    "name": "ipython",
    "version": 3
   },
   "file_extension": ".py",
   "mimetype": "text/x-python",
   "name": "python",
   "nbconvert_exporter": "python",
   "pygments_lexer": "ipython3",
   "version": "3.9.13"
  }
 },
 "nbformat": 4,
 "nbformat_minor": 5
}
